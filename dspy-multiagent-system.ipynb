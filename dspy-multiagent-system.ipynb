{
 "cells": [
  {
   "cell_type": "markdown",
   "id": "a1b2c3d4",
   "metadata": {},
   "source": [
    "# DSPy Multi-Agent System for Intelligent Buying System\n",
    "\n",
    "This notebook implements a sophisticated multi-agent buying system using DSPy for declarative language model programming, automatic prompt optimization, and systematic evaluation."
   ]
  },
  {
   "cell_type": "markdown",
   "id": "setup-header",
   "metadata": {},
   "source": [
    "## 1. Core DSPy Setup"
   ]
  },
  {
   "cell_type": "code",
   "execution_count": 27,
   "id": "a73d8b21",
   "metadata": {},
   "outputs": [],
   "source": [
    "import dspy\n",
    "from dspy import Module, ChainOfThought, Predict, ReAct\n",
    "import json\n",
    "import pandas as pd\n",
    "from typing import List, Dict, Any\n",
    "import asyncio\n",
    "from datetime import datetime"
   ]
  },
  {
   "cell_type": "code",
   "execution_count": 28,
   "id": "dspy-config",
   "metadata": {},
   "outputs": [],
   "source": [
    "# Configure DSPy with your LM\n",
    "# Note: Replace with your actual OpenAI API key or use environment variable\n",
    "lm = dspy.LM(model=\"gpt-4\", max_tokens=1000)\n",
    "dspy.settings.configure(lm=lm)"
   ]
  },
  {
   "cell_type": "markdown",
   "id": "signatures-header",
   "metadata": {},
   "source": [
    "## 2. DSPy Signatures for Agent Tasks"
   ]
  },
  {
   "cell_type": "code",
   "execution_count": 29,
   "id": "signatures",
   "metadata": {},
   "outputs": [],
   "source": [
    "class SupplierEvaluation(dspy.Signature):\n",
    "    \"\"\"Evaluate supplier reliability based on historical performance.\"\"\"\n",
    "    order_history = dspy.InputField(desc=\"Past orders from supplier\")\n",
    "    supplier_info = dspy.InputField(desc=\"Supplier details\")\n",
    "    reliability_score = dspy.OutputField(desc=\"Score 0-100\")\n",
    "    risk_factors = dspy.OutputField(desc=\"Key risks identified\")\n",
    "\n",
    "class StockoutPrediction(dspy.Signature):\n",
    "    \"\"\"Predict stockout risk for inventory items.\"\"\"\n",
    "    current_stock = dspy.InputField()\n",
    "    consumption_pattern = dspy.InputField()\n",
    "    lead_time = dspy.InputField()\n",
    "    stockout_probability = dspy.OutputField()\n",
    "    days_until_stockout = dspy.OutputField()\n",
    "\n",
    "class PurchaseRecommendation(dspy.Signature):\n",
    "    \"\"\"Generate optimal purchase recommendations.\"\"\"\n",
    "    stockout_risk = dspy.InputField()\n",
    "    supplier_scores = dspy.InputField()\n",
    "    budget_constraints = dspy.InputField()\n",
    "    recommended_order = dspy.OutputField()\n",
    "    justification = dspy.OutputField()\n",
    "\n",
    "class NegotiationStrategy(dspy.Signature):\n",
    "    \"\"\"Generate negotiation strategy for supplier discussions.\"\"\"\n",
    "    supplier_profile = dspy.InputField(desc=\"Supplier characteristics and history\")\n",
    "    order_details = dspy.InputField(desc=\"Proposed order information\")\n",
    "    market_conditions = dspy.InputField(desc=\"Current market state\")\n",
    "    negotiation_approach = dspy.OutputField(desc=\"Recommended negotiation strategy\")\n",
    "    key_leverage_points = dspy.OutputField(desc=\"Advantages to emphasize\")"
   ]
  },
  {
   "cell_type": "markdown",
   "id": "agents-header",
   "metadata": {},
   "source": [
    "## 3. DSPy Agent Modules"
   ]
  },
  {
   "cell_type": "code",
   "execution_count": 30,
   "id": "supplier-agent",
   "metadata": {},
   "outputs": [],
   "source": [
    "class DSPySupplierAgent(Module):\n",
    "    def __init__(self):\n",
    "        super().__init__()\n",
    "        self.evaluate = ChainOfThought(SupplierEvaluation)\n",
    "        \n",
    "    def forward(self, supplier_data):\n",
    "        return self.evaluate(\n",
    "            order_history=supplier_data['history'],\n",
    "            supplier_info=supplier_data['info']\n",
    "        )"
   ]
  },
  {
   "cell_type": "code",
   "execution_count": 31,
   "id": "stockout-agent",
   "metadata": {},
   "outputs": [],
   "source": [
    "class DSPyStockoutAgent(Module):\n",
    "    def __init__(self):\n",
    "        super().__init__()\n",
    "        self.predict = Predict(StockoutPrediction)\n",
    "        \n",
    "    def forward(self, inventory_data):\n",
    "        predictions = []\n",
    "        for sku in inventory_data:\n",
    "            pred = self.predict(\n",
    "                current_stock=sku['stock'],\n",
    "                consumption_pattern=sku['usage'],\n",
    "                lead_time=sku['lead_time']\n",
    "            )\n",
    "            predictions.append(pred)\n",
    "        return predictions"
   ]
  },
  {
   "cell_type": "code",
   "execution_count": 32,
   "id": "recommendation-agent",
   "metadata": {},
   "outputs": [],
   "source": [
    "class DSPyRecommendationAgent(Module):\n",
    "    def __init__(self):\n",
    "        super().__init__()\n",
    "        self.recommend = ChainOfThought(PurchaseRecommendation)\n",
    "        \n",
    "    def forward(self, context):\n",
    "        return self.recommend(**context)"
   ]
  },
  {
   "cell_type": "code",
   "execution_count": 33,
   "id": "negotiation-agent",
   "metadata": {},
   "outputs": [],
   "source": [
    "class DSPyNegotiationAgent(Module):\n",
    "    def __init__(self):\n",
    "        super().__init__()\n",
    "        self.strategize = ChainOfThought(NegotiationStrategy)\n",
    "        \n",
    "    def forward(self, negotiation_context):\n",
    "        return self.strategize(\n",
    "            supplier_profile=negotiation_context['supplier'],\n",
    "            order_details=negotiation_context['order'],\n",
    "            market_conditions=negotiation_context['market']\n",
    "        )"
   ]
  },
  {
   "cell_type": "markdown",
   "id": "orchestration-header",
   "metadata": {},
   "source": [
    "## 4. Multi-Agent Orchestration"
   ]
  },
  {
   "cell_type": "code",
   "execution_count": 34,
   "id": "orchestrator",
   "metadata": {},
   "outputs": [],
   "source": [
    "class DSPyBuyingSystemOrchestrator(Module):\n",
    "    def __init__(self):\n",
    "        super().__init__()\n",
    "        self.supplier_agent = DSPySupplierAgent()\n",
    "        self.stockout_agent = DSPyStockoutAgent()\n",
    "        self.recommendation_agent = DSPyRecommendationAgent()\n",
    "        self.negotiation_agent = DSPyNegotiationAgent()\n",
    "        \n",
    "    def forward(self, system_state):\n",
    "        # Parallel agent execution\n",
    "        supplier_scores = self.supplier_agent(system_state['suppliers'])\n",
    "        stockout_risks = self.stockout_agent(system_state['inventory'])\n",
    "        \n",
    "        # Aggregate insights\n",
    "        context = {\n",
    "            'stockout_risk': stockout_risks,\n",
    "            'supplier_scores': supplier_scores,\n",
    "            'budget_constraints': system_state['budget']\n",
    "        }\n",
    "        \n",
    "        # Generate recommendations\n",
    "        recommendations = self.recommendation_agent(context)\n",
    "        \n",
    "        # Apply business rules validation\n",
    "        # Note: Manual validation since dspy.Assert is not available in current version\n",
    "        if '$' in str(recommendations.recommended_order):\n",
    "            try:\n",
    "                order_amount = float(recommendations.recommended_order.split('$')[1])\n",
    "                if order_amount > system_state['budget']:\n",
    "                    raise ValueError(\"Order must be within budget\")\n",
    "            except (ValueError, IndexError):\n",
    "                pass  # Skip validation if parsing fails\n",
    "        \n",
    "        # Generate negotiation strategy if needed\n",
    "        if system_state.get('negotiation_required', False):\n",
    "            negotiation_strategy = self.negotiation_agent({\n",
    "                'supplier': system_state['selected_supplier'],\n",
    "                'order': recommendations.recommended_order,\n",
    "                'market': system_state.get('market_conditions', {})\n",
    "            })\n",
    "            recommendations.negotiation_strategy = negotiation_strategy\n",
    "        \n",
    "        return recommendations"
   ]
  },
  {
   "cell_type": "markdown",
   "id": "optimization-header",
   "metadata": {},
   "source": [
    "## 5. Optimization Strategy"
   ]
  },
  {
   "cell_type": "code",
   "execution_count": 35,
   "id": "optimization-setup",
   "metadata": {},
   "outputs": [],
   "source": [
    "def load_historical_data():\n",
    "    \"\"\"Load historical data for training examples.\"\"\"\n",
    "    # This would load from your actual data files\n",
    "    # For demo purposes, we'll create sample data\n",
    "    sample_data = [\n",
    "        {\n",
    "            'system_state': {\n",
    "                'suppliers': {'history': 'good performance', 'info': 'reliable supplier'},\n",
    "                'inventory': [{'stock': 100, 'usage': 'high', 'lead_time': '5 days'}],\n",
    "                'budget': 10000\n",
    "            },\n",
    "            'optimal_decision': 'Order 500 units from Supplier A'\n",
    "        }\n",
    "    ]\n",
    "    return [(data['system_state'], data['optimal_decision']) for data in sample_data]\n",
    "\n",
    "def procurement_success_metric(example, pred, trace=None):\n",
    "    \"\"\"Metric to evaluate procurement decisions.\"\"\"\n",
    "    # Simple metric - in practice this would be more sophisticated\n",
    "    return len(str(pred.recommended_order)) > 10  # Basic validation"
   ]
  },
  {
   "cell_type": "code",
   "execution_count": 36,
   "id": "optimization-compile",
   "metadata": {},
   "outputs": [],
   "source": [
    "# Create training examples from historical data\n",
    "def setup_optimization():\n",
    "    train_examples = [\n",
    "        dspy.Example(\n",
    "            system_state=historical_state,\n",
    "            optimal_decision=historical_outcome\n",
    "        ).with_inputs('system_state')\n",
    "        for historical_state, historical_outcome in load_historical_data()\n",
    "    ]\n",
    "    \n",
    "    # Optimize with DSPy compiler\n",
    "    from dspy.teleprompt import BootstrapFewShot\n",
    "    \n",
    "    optimizer = BootstrapFewShot(metric=procurement_success_metric)\n",
    "    orchestrator = DSPyBuyingSystemOrchestrator()\n",
    "    \n",
    "    try:\n",
    "        optimized_orchestrator = optimizer.compile(\n",
    "            orchestrator,\n",
    "            trainset=train_examples\n",
    "        )\n",
    "        return optimized_orchestrator\n",
    "    except Exception as e:\n",
    "        print(f\"Optimization failed: {e}\")\n",
    "        return orchestrator"
   ]
  },
  {
   "cell_type": "markdown",
   "id": "demo-header",
   "metadata": {},
   "source": [
    "## 6. Demo and Testing"
   ]
  },
  {
   "cell_type": "code",
   "execution_count": 37,
   "id": "demo-data",
   "metadata": {},
   "outputs": [],
   "source": [
    "# Sample system state for testing\n",
    "sample_system_state = {\n",
    "    'suppliers': {\n",
    "        'history': 'Supplier A: 95% on-time delivery, Supplier B: 87% on-time delivery',\n",
    "        'info': 'Supplier A: Premium quality, higher cost. Supplier B: Standard quality, competitive pricing'\n",
    "    },\n",
    "    'inventory': [\n",
    "        {\n",
    "            'sku': 'WIDGET-001',\n",
    "            'stock': 50,\n",
    "            'usage': 'Average 20 units per week, trending upward',\n",
    "            'lead_time': '7 days'\n",
    "        },\n",
    "        {\n",
    "            'sku': 'GADGET-002', \n",
    "            'stock': 200,\n",
    "            'usage': 'Average 15 units per week, stable',\n",
    "            'lead_time': '14 days'\n",
    "        }\n",
    "    ],\n",
    "    'budget': 25000,\n",
    "    'negotiation_required': True,\n",
    "    'selected_supplier': 'Supplier A with premium quality focus',\n",
    "    'market_conditions': 'Raw material costs increasing, supply chain disruptions possible'\n",
    "}"
   ]
  },
  {
   "cell_type": "code",
   "execution_count": 38,
   "id": "run-demo",
   "metadata": {},
   "outputs": [
    {
     "name": "stdout",
     "output_type": "stream",
     "text": [
      "Initializing DSPy Buying System...\n",
      "Running system with sample data...\n",
      "\n",
      "=== BUYING SYSTEM RECOMMENDATIONS ===\n",
      "Recommended Order: Order the first product from Supplier A and the second product from Supplier B.\n",
      "Justification: The first product has a high risk of stockout and less than two weeks until stockout, making it critical to ensure on-time delivery. Supplier A, with a higher reliability score, is more likely to deliver on time, reducing the risk of stockout. However, due to budget constraints, it is necessary to also consider cost. Supplier B, while less reliable, offers competitive pricing and could be a more cost-effective choice for the second product, which has a low risk of stockout and more than 90 days until stockout.\n",
      "\n",
      "Negotiation Strategy: The recommended negotiation strategy is to leverage the order split between Supplier A and B. This can be used to negotiate better terms with Supplier A by suggesting a potential increase in order volume if they can offer competitive pricing. Additionally, the current market conditions should be highlighted to emphasize the need for a mutually beneficial agreement that can ensure business continuity in these uncertain times.\n",
      "Key Leverage Points: The key leverage points are the split order between Supplier A and B, the potential for increased order volume, and the current market conditions. The split order can be used as a bargaining chip to negotiate better terms. The potential for increased order volume can be used as an incentive for Supplier A to offer more competitive pricing. The current market conditions can be used to emphasize the need for a mutually beneficial agreement.\n"
     ]
    }
   ],
   "source": [
    "# Initialize and run the system\n",
    "def run_buying_system_demo():\n",
    "    print(\"Initializing DSPy Buying System...\")\n",
    "    orchestrator = DSPyBuyingSystemOrchestrator()\n",
    "    \n",
    "    print(\"Running system with sample data...\")\n",
    "    try:\n",
    "        result = orchestrator(sample_system_state)\n",
    "        \n",
    "        print(\"\\n=== BUYING SYSTEM RECOMMENDATIONS ===\")\n",
    "        print(f\"Recommended Order: {result.recommended_order}\")\n",
    "        print(f\"Justification: {result.justification}\")\n",
    "        \n",
    "        if hasattr(result, 'negotiation_strategy'):\n",
    "            print(f\"\\nNegotiation Strategy: {result.negotiation_strategy.negotiation_approach}\")\n",
    "            print(f\"Key Leverage Points: {result.negotiation_strategy.key_leverage_points}\")\n",
    "            \n",
    "        return result\n",
    "    except Exception as e:\n",
    "        print(f\"Error running system: {e}\")\n",
    "        return None\n",
    "\n",
    "# Uncomment to run the demo (requires valid OpenAI API key)\n",
    "result = run_buying_system_demo()"
   ]
  },
  {
   "cell_type": "markdown",
   "id": "integration-header",
   "metadata": {},
   "source": [
    "## 7. Integration with Existing System"
   ]
  },
  {
   "cell_type": "code",
   "execution_count": 24,
   "id": "integration",
   "metadata": {},
   "outputs": [],
   "source": [
    "def integrate_with_existing_data():\n",
    "    \"\"\"Integration function to load data from existing CSV files and systems.\"\"\"\n",
    "    try:\n",
    "        # Load inventory data\n",
    "        inventory_df = pd.read_csv('data/inventory.csv')\n",
    "        \n",
    "        # Load supplier data  \n",
    "        suppliers_df = pd.read_csv('data/suppliers.csv')\n",
    "        \n",
    "        # Convert to system state format\n",
    "        system_state = {\n",
    "            'inventory': inventory_df.to_dict('records'),\n",
    "            'suppliers': {\n",
    "                'history': suppliers_df.to_string(),\n",
    "                'info': f\"Available suppliers: {len(suppliers_df)}\"\n",
    "            },\n",
    "            'budget': 50000  # Default budget\n",
    "        }\n",
    "        \n",
    "        return system_state\n",
    "    except FileNotFoundError:\n",
    "        print(\"Data files not found. Using sample data.\")\n",
    "        return sample_system_state\n",
    "\n",
    "def save_recommendations(recommendations, filename=None):\n",
    "    \"\"\"Save recommendations to file for integration with monitoring systems.\"\"\"\n",
    "    if filename is None:\n",
    "        filename = f\"recommendations_{datetime.now().strftime('%Y%m%d_%H%M%S')}.json\"\n",
    "    \n",
    "    rec_data = {\n",
    "        'timestamp': datetime.now().isoformat(),\n",
    "        'recommended_order': str(recommendations.recommended_order),\n",
    "        'justification': str(recommendations.justification)\n",
    "    }\n",
    "    \n",
    "    with open(filename, 'w') as f:\n",
    "        json.dump(rec_data, f, indent=2)\n",
    "    \n",
    "    print(f\"Recommendations saved to {filename}\")"
   ]
  },
  {
   "cell_type": "markdown",
   "id": "monitoring-header",
   "metadata": {},
   "source": [
    "## 8. Monitoring and Evaluation"
   ]
  },
  {
   "cell_type": "code",
   "execution_count": 25,
   "id": "monitoring",
   "metadata": {},
   "outputs": [],
   "source": [
    "class SystemMonitor:\n",
    "    def __init__(self):\n",
    "        self.metrics = []\n",
    "        \n",
    "    def log_decision(self, system_state, recommendations, outcome=None):\n",
    "        \"\"\"Log system decisions for analysis and improvement.\"\"\"\n",
    "        log_entry = {\n",
    "            'timestamp': datetime.now().isoformat(),\n",
    "            'system_state': system_state,\n",
    "            'recommendations': str(recommendations.recommended_order),\n",
    "            'justification': str(recommendations.justification),\n",
    "            'outcome': outcome\n",
    "        }\n",
    "        self.metrics.append(log_entry)\n",
    "        \n",
    "    def evaluate_performance(self):\n",
    "        \"\"\"Evaluate system performance over time.\"\"\"\n",
    "        if not self.metrics:\n",
    "            return \"No data to evaluate\"\n",
    "            \n",
    "        successful_decisions = sum(1 for m in self.metrics if m.get('outcome') == 'success')\n",
    "        total_decisions = len(self.metrics)\n",
    "        \n",
    "        return {\n",
    "            'total_decisions': total_decisions,\n",
    "            'successful_decisions': successful_decisions,\n",
    "            'success_rate': successful_decisions / total_decisions if total_decisions > 0 else 0\n",
    "        }\n",
    "        \n",
    "    def export_metrics(self, filename='system_metrics.json'):\n",
    "        \"\"\"Export metrics for external analysis.\"\"\"\n",
    "        with open(filename, 'w') as f:\n",
    "            json.dump(self.metrics, f, indent=2)\n",
    "        print(f\"Metrics exported to {filename}\")\n",
    "\n",
    "# Initialize monitor\n",
    "monitor = SystemMonitor()"
   ]
  },
  {
   "cell_type": "markdown",
   "id": "conclusion-header",
   "metadata": {},
   "source": [
    "## 9. Next Steps and Usage\n",
    "\n",
    "This DSPy multi-agent system provides:\n",
    "\n",
    "1. **Structured Decision Making**: Clear signatures define inputs/outputs for each agent\n",
    "2. **Automatic Optimization**: DSPy can improve performance through training\n",
    "3. **Explainable AI**: Reasoning chains show how decisions are made\n",
    "4. **Modular Architecture**: Easy to extend with new agents or modify existing ones\n",
    "5. **Integration Ready**: Connects with existing data pipelines and monitoring\n",
    "\n",
    "To use this system:\n",
    "1. Set up your OpenAI API key\n",
    "2. Load your actual inventory and supplier data\n",
    "3. Run the orchestrator with real system state\n",
    "4. Monitor and collect feedback for optimization\n",
    "5. Use DSPy's compilation to improve performance over time"
   ]
  }
 ],
 "metadata": {
  "kernelspec": {
   "display_name": ".venv",
   "language": "python",
   "name": "python3"
  },
  "language_info": {
   "codemirror_mode": {
    "name": "ipython",
    "version": 3
   },
   "file_extension": ".py",
   "mimetype": "text/x-python",
   "name": "python",
   "nbconvert_exporter": "python",
   "pygments_lexer": "ipython3",
   "version": "3.13.5"
  }
 },
 "nbformat": 4,
 "nbformat_minor": 5
}
